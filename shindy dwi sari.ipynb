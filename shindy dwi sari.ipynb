{
 "cells": [
  {
   "cell_type": "code",
   "execution_count": 26,
   "metadata": {},
   "outputs": [
    {
     "name": "stdout",
     "output_type": "stream",
     "text": [
      "[1, 2, 3, 4, 5, 5, 6, 7, 8, 9, 10]\n"
     ]
    }
   ],
   "source": [
    "my_list = [1, 2, 3, 4, 5, 6, 7, 8, 9, 10]\n",
    "\n",
    "# Menambahkan elemen 5 pada indeks 5\n",
    "my_list.insert(5, 5)\n",
    "\n",
    "print(my_list)"
   ]
  },
  {
   "cell_type": "code",
   "execution_count": 27,
   "metadata": {},
   "outputs": [
    {
     "name": "stdout",
     "output_type": "stream",
     "text": [
      "[1, 2, 3, 5, 5, 6, 7, 8, 9, 10]\n"
     ]
    }
   ],
   "source": [
    "my_list = [1, 2, 3, 4, 5, 5, 6, 7, 8, 9, 10]\n",
    "\n",
    "# Menghapus elemen dengan nilai 4\n",
    "my_list.remove(4)\n",
    "\n",
    "print(my_list)"
   ]
  },
  {
   "cell_type": "code",
   "execution_count": 32,
   "metadata": {},
   "outputs": [
    {
     "name": "stdout",
     "output_type": "stream",
     "text": [
      "Bagian pertama: [1, 2, 3, 4, 5]\n",
      "Bagian kedua: [5, 6, 7, 8, 9, 10]\n"
     ]
    }
   ],
   "source": [
    "my_list = [1, 2, 3, 4, 5, 5, 6, 7, 8, 9, 10]\n",
    "\n",
    "# Memisahkan list pada indeks 5\n",
    "part1 = my_list[:5]\n",
    "part2 = my_list[5:]\n",
    "\n",
    "print(\"Bagian pertama:\", part1)\n",
    "print(\"Bagian kedua:\", part2)"
   ]
  },
  {
   "cell_type": "code",
   "execution_count": 18,
   "metadata": {},
   "outputs": [
    {
     "name": "stdout",
     "output_type": "stream",
     "text": [
      "[1, 2, 3]\n",
      "[4, 5, 6]\n",
      "[7, 8, 9, 10]\n"
     ]
    }
   ],
   "source": [
    "my_list = [1, 2, 3, 4, 5, 6, 7, 8, 9, 10]\n",
    "# Memisahkan list pada indeks 3 dan 6\n",
    "bil1 = my_list[:3]\n",
    "bil2 = my_list[3:6]\n",
    "bil3 = my_list[6:]\n",
    "print(bil1)\n",
    "print(bil2)\n",
    "print(bil3)\n"
   ]
  },
  {
   "cell_type": "code",
   "execution_count": 33,
   "metadata": {},
   "outputs": [
    {
     "name": "stdout",
     "output_type": "stream",
     "text": [
      "List setelah dibalik: [10, 9, 8, 7, 6, 5, 5, 4, 3, 2, 1]\n"
     ]
    }
   ],
   "source": [
    "my_list = [1, 2, 3, 4, 5, 5, 6, 7, 8, 9, 10]\n",
    "\n",
    "# Membalikkan urutan elemen dalam list\n",
    "my_list.reverse()\n",
    "\n",
    "print(\"List setelah dibalik:\", my_list)"
   ]
  },
  {
   "cell_type": "code",
   "execution_count": 34,
   "metadata": {},
   "outputs": [
    {
     "name": "stdout",
     "output_type": "stream",
     "text": [
      "Elemen dari indeks ke-0 hingga ke-6 dengan langkah 3: [1, 4]\n"
     ]
    }
   ],
   "source": [
    "my_list = [1, 2, 3, 4, 5, 5, 6, 7, 8, 9, 10]\n",
    "\n",
    "# Mengambil elemen dari indeks ke-0 hingga ke-6 dengan langkah 3\n",
    "sliced_list = my_list[0:6:3]\n",
    "\n",
    "print(\"Elemen dari indeks ke-0 hingga ke-6 dengan langkah 3:\", sliced_list)"
   ]
  }
 ],
 "metadata": {
  "kernelspec": {
   "display_name": "Python 3",
   "language": "python",
   "name": "python3"
  },
  "language_info": {
   "codemirror_mode": {
    "name": "ipython",
    "version": 3
   },
   "file_extension": ".py",
   "mimetype": "text/x-python",
   "name": "python",
   "nbconvert_exporter": "python",
   "pygments_lexer": "ipython3",
   "version": "3.12.2"
  }
 },
 "nbformat": 4,
 "nbformat_minor": 2
}
